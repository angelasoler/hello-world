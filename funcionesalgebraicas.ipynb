{
  "nbformat": 4,
  "nbformat_minor": 0,
  "metadata": {
    "colab": {
      "name": "Untitled0.ipynb",
      "provenance": [],
      "authorship_tag": "ABX9TyM7RThHLw41/gsXtqGS5nHd",
      "include_colab_link": true
    },
    "kernelspec": {
      "name": "python3",
      "display_name": "Python 3"
    },
    "language_info": {
      "name": "python"
    }
  },
  "cells": [
    {
      "cell_type": "markdown",
      "metadata": {
        "id": "view-in-github",
        "colab_type": "text"
      },
      "source": [
        "<a href=\"https://colab.research.google.com/github/angelasoler/hello-world/blob/main/funcionesalgebraicas.ipynb\" target=\"_parent\"><img src=\"https://colab.research.google.com/assets/colab-badge.svg\" alt=\"Open In Colab\"/></a>"
      ]
    },
    {
      "cell_type": "code",
      "metadata": {
        "id": "sNenwPajbeUH"
      },
      "source": [
        "import matplotlib.pyplot as plt\n",
        "from numpy import *"
      ],
      "execution_count": 6,
      "outputs": []
    },
    {
      "cell_type": "markdown",
      "metadata": {
        "id": "4kxkEOd0fAER"
      },
      "source": [
        "funcion lineal\n",
        "\n",
        "f(x) = mx b\n",
        "\n",
        "donde m y b ∈ R\n",
        "\n",
        "m puede ser calculada por:\n",
        "\n",
        "m = y^2 - y^1/x^2 - x^1\n",
        "\n",
        "y b es el punto de corte con el eje Y. su dominio es Domf \n",
        "= (-∞, ∞). su imagen es Imf(-∞, ∞)"
      ]
    },
    {
      "cell_type": "code",
      "metadata": {
        "colab": {
          "base_uri": "https://localhost:8080/",
          "height": 282
        },
        "id": "yjV-xBR9cB5C",
        "outputId": "b4e760f9-67d6-4194-9d8e-8460f2c1c23a"
      },
      "source": [
        "def f(m,x,b):\n",
        "  return m*x + b\n",
        "\n",
        "res = 100\n",
        "\n",
        "m = -1\n",
        "\n",
        "b = 5\n",
        "  \n",
        "x = linspace(-10.0, 10.0, num=res)\n",
        "\n",
        "y = f(m,x,b)\n",
        "\n",
        "fig, ax = plt.subplots()\n",
        "\n",
        "ax.plot(x,y)\n",
        "ax.grid()\n",
        "ax.axhline(y=0, color='r')\n",
        "ax.axvline(x=0, color='r')"
      ],
      "execution_count": 16,
      "outputs": [
        {
          "output_type": "execute_result",
          "data": {
            "text/plain": [
              "<matplotlib.lines.Line2D at 0x7f745b20bb10>"
            ]
          },
          "metadata": {
            "tags": []
          },
          "execution_count": 16
        },
        {
          "output_type": "display_data",
          "data": {
            "image/png": "[encoded data removed]",
            "text/plain": [
              "<Figure size 432x288 with 1 Axes>"
            ]
          },
          "metadata": {
            "tags": [],
            "needs_background": "light"
          }
        }
      ]
    },
    {
      "cell_type": "markdown",
      "metadata": {
        "id": "IxLvQAKofJw9"
      },
      "source": [
        "función *polinómica*\n",
        "\n",
        "funciones potencia\n",
        "\n",
        "f(x) = x^2 es Domf = (-∞, ∞). Su imagen es Imf = [0, ∞)\n",
        "\n"
      ]
    },
    {
      "cell_type": "code",
      "metadata": {
        "colab": {
          "base_uri": "https://localhost:8080/",
          "height": 282
        },
        "id": "xPgd2lpWgXtH",
        "outputId": "d44815df-d187-4c0f-97e9-b9a0ffd62cad"
      },
      "source": [
        "def f(x):\n",
        "  return x**2\n",
        "\n",
        "res = 100\n",
        "\n",
        "  \n",
        "x = linspace(-10.0, 10.0, num=res)\n",
        "\n",
        "y = f(x)\n",
        "\n",
        "fig, ax = plt.subplots()\n",
        "\n",
        "ax.plot(x,y)\n",
        "ax.grid()\n",
        "ax.axhline(y=0, color='r')\n",
        "ax.axvline(x=0, color='r')"
      ],
      "execution_count": 17,
      "outputs": [
        {
          "output_type": "execute_result",
          "data": {
            "text/plain": [
              "<matplotlib.lines.Line2D at 0x7f745b1a8a90>"
            ]
          },
          "metadata": {
            "tags": []
          },
          "execution_count": 17
        },
        {
          "output_type": "display_data",
          "data": {
            "image/png": "[encoded data removed]",
            "text/plain": [
              "<Figure size 432x288 with 1 Axes>"
            ]
          },
          "metadata": {
            "tags": [],
            "needs_background": "light"
          }
        }
      ]
    },
    {
      "cell_type": "markdown",
      "metadata": {
        "id": "8H-fWD9FjHbv"
      },
      "source": [
        "funcion polinomica grado 7\n",
        "\n",
        "P(x) = 2x^7 - x^4 + 3X^2 + 4"
      ]
    },
    {
      "cell_type": "code",
      "metadata": {
        "colab": {
          "base_uri": "https://localhost:8080/",
          "height": 293
        },
        "id": "MPp-wApujdK3",
        "outputId": "335a81a7-b780-489b-b013-e7f2d833307d"
      },
      "source": [
        "def f(x):\n",
        "  return 2*x**7 - x**4 + 3*x**2 + 4\n",
        "\n",
        "res = 100\n",
        "\n",
        "  \n",
        "x = linspace(-10.0, 10.0, num=res) #vector #num resolucion \n",
        "\n",
        "y = f(x)\n",
        "\n",
        "fig, ax = plt.subplots() #figura y ejes \n",
        "plt.xlim(-25, 25) #zoom de x\n",
        "plt.ylim()   #zoom de y\n",
        "ax.plot(x,y) #ejes x e y\n",
        "ax.grid() #grede ou cuadricula\n",
        "ax.axhline(y=0, color='r')\n",
        "ax.axvline(x=0, color='r')"
      ],
      "execution_count": 29,
      "outputs": [
        {
          "output_type": "execute_result",
          "data": {
            "text/plain": [
              "<matplotlib.lines.Line2D at 0x7f745aa6a550>"
            ]
          },
          "metadata": {
            "tags": []
          },
          "execution_count": 29
        },
        {
          "output_type": "display_data",
          "data": {
            "image/png": "[encoded data removed]",
            "text/plain": [
              "<Figure size 432x288 with 1 Axes>"
            ]
          },
          "metadata": {
            "tags": [],
            "needs_background": "light"
          }
        }
      ]
    },
    {
      "cell_type": "code",
      "metadata": {
        "id": "W4NZLxUrlh1C"
      },
      "source": [
        ""
      ],
      "execution_count": null,
      "outputs": []
    }
  ]
}